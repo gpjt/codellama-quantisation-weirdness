{
 "cells": [
  {
   "cell_type": "markdown",
   "id": "2e857a88-abc2-4b86-ba31-706273f42d13",
   "metadata": {},
   "source": [
    "# CodeLlama quantisation weirdness\n",
    "\n",
    "When messing around with quantisation to see what kind of models I could fit on an RTX 3090 I came across \n",
    "some strange behaviour.  I was comparing three sizes of CodeLlama model, with different quantisations:\n",
    "\n",
    "* codellama/CodeLlama-7b-Instruct-hf in full-fat, 8-bit and 4-bit\n",
    "* codellama/CodeLlama-13b-Instruct-hf in 8-bit and 4-bit\n",
    "* codellama/CodeLlama-34b-Instruct-hf in 4-bit\n",
    "\n",
    "The quality of the response to my test question was not too bad with any of these, apart from \n",
    "codellama/CodeLlama-34b-Instruct-hf in 4-bit, which was often (but not always) heavily glitched with \n",
    "missing tokens -- that is,  it was *worse* than codellama/CodeLlama-7b-Instruct-hf in 4-bit.  That \n",
    "surprised me!  In the case captured in this notebook, it generates Java instead of the requested Python, \n",
    "and I've also seen it output glitched JavaScript.\n",
    "\n",
    "I was expecting quantisation to worsen the results, but not to make a larger model worse than a smaller one \n",
    "*at the same level of quantisation*.  I've put this repo up to see if anyone can repro these results, and to \n",
    "find out if anyone has any idea why it's happening."
   ]
  },
  {
   "cell_type": "code",
   "execution_count": 1,
   "id": "e1851acd-56b2-41cb-8a60-cd410419d033",
   "metadata": {},
   "outputs": [],
   "source": [
    "import time\n",
    "\n",
    "from transformers import AutoTokenizer, AutoModelForCausalLM\n",
    "import transformers\n",
    "import torch"
   ]
  },
  {
   "cell_type": "markdown",
   "id": "18af23f9-eb52-4bce-b3e9-0bf438b77c82",
   "metadata": {},
   "source": [
    "# The prompt\n",
    "\n",
    "A simple programming question"
   ]
  },
  {
   "cell_type": "code",
   "execution_count": 2,
   "id": "ebcbe521-f393-4488-8a3d-657ee81ff680",
   "metadata": {},
   "outputs": [],
   "source": [
    "instruction = (\n",
    "    \"[INST] \"\n",
    "    \"Please write a function in Python to calculate the factorial of a number.  Use recursion, and consider error \"\n",
    "    \"cases (eg. n<0)\"\n",
    "    \" [/INST]\"\n",
    ")"
   ]
  },
  {
   "cell_type": "markdown",
   "id": "ce79e2d2-5e40-45b4-ab26-4abb2a8046ab",
   "metadata": {},
   "source": [
    "## The test harness\n",
    "\n",
    "For each model, we load it up, check its memory usage, then time a run with the above instruction to see what it comes up with.  We also clean up after ourselves.\n"
   ]
  },
  {
   "cell_type": "code",
   "execution_count": 3,
   "id": "becbbc97-7a44-45c3-a06c-9c0a867f4996",
   "metadata": {},
   "outputs": [],
   "source": [
    "def test_model(model_id, kwarg_dict):\n",
    "    print(f\"\\n\\n================== RUNNING {model_id} with {kwarg_dict} =======================\")\n",
    "    tokenizer = AutoTokenizer.from_pretrained(model_id)\n",
    "    model = AutoModelForCausalLM.from_pretrained(model_id, device_map=\"cuda\", **kwarg_dict)\n",
    "    encoded = tokenizer(instruction, return_tensors=\"pt\", return_attention_mask=True)\n",
    "    input_ids = encoded[\"input_ids\"].to(model.device)\n",
    "    print(f\"Using {torch.cuda.memory_allocated() / 1024**3:.2f} GiB\")\n",
    "\n",
    "    start = time.time()\n",
    "    output = model.generate(\n",
    "        input_ids, \n",
    "        max_length=2000, \n",
    "        num_return_sequences=1, \n",
    "        temperature=0.7,\n",
    "        do_sample=True,\n",
    "        attention_mask=encoded[\"attention_mask\"],\n",
    "    )\n",
    "    end = time.time()\n",
    "\n",
    "    generated_text = tokenizer.decode(output[0], skip_special_tokens=True)\n",
    "    print(generated_text)\n",
    "    \n",
    "    print(f\"\\n\\nTook {end - start} seconds\")\n",
    "\n",
    "    del model\n",
    "    torch.cuda.empty_cache()\n",
    "               "
   ]
  },
  {
   "cell_type": "markdown",
   "id": "64b0012e-4c6f-42a0-bece-c40fe96c9128",
   "metadata": {},
   "source": [
    "## 7b parameters, no quantisation\n",
    "\n",
    "As expected, this uses ~2x the number of bytes as there are parameters.  It performs pretty well!"
   ]
  },
  {
   "cell_type": "code",
   "execution_count": 4,
   "id": "1db6abfb-8e0c-4333-9072-5a0aa71d6bbc",
   "metadata": {},
   "outputs": [
    {
     "name": "stdout",
     "output_type": "stream",
     "text": [
      "\n",
      "\n",
      "================== RUNNING codellama/CodeLlama-7b-Instruct-hf with {'torch_dtype': torch.bfloat16} =======================\n"
     ]
    },
    {
     "data": {
      "application/vnd.jupyter.widget-view+json": {
       "model_id": "d8661c0770c9444a91bd1c137b443c43",
       "version_major": 2,
       "version_minor": 0
      },
      "text/plain": [
       "Loading checkpoint shards:   0%|          | 0/2 [00:00<?, ?it/s]"
      ]
     },
     "metadata": {},
     "output_type": "display_data"
    },
    {
     "name": "stderr",
     "output_type": "stream",
     "text": [
      "Setting `pad_token_id` to `eos_token_id`:2 for open-end generation.\n"
     ]
    },
    {
     "name": "stdout",
     "output_type": "stream",
     "text": [
      "Using 12.80 GiB\n",
      "[INST] Please write a function in Python to calculate the factorial of a number.  Use recursion, and consider error cases (eg. n<0) [/INST]  Sure! Here's an example of a function in Python that calculates the factorial of a number using recursion, and considers error cases:\n",
      "```\n",
      "def factorial(n):\n",
      "    if n < 0:\n",
      "        raise ValueError(\"factorial is not defined for negative numbers\")\n",
      "    elif n == 0:\n",
      "        return 1\n",
      "    else:\n",
      "        return n * factorial(n-1)\n",
      "```\n",
      "This function uses the recursive formula for the factorial, which is:\n",
      "\n",
      "n! = n * (n-1) * (n-2) * ... * 1\n",
      "\n",
      "The function first checks if the input `n` is negative. If it is, the function raises a `ValueError` exception, as the factorial is not defined for negative numbers.\n",
      "\n",
      "If `n` is not negative, the function checks if it is equal to 0. If it is, the function returns 1, as the factorial of 0 is defined to be 1.\n",
      "\n",
      "If `n` is not 0, the function multiplies `n` by the result of recursively calling the function with `n-1` as the input. This continues until the base case is reached, where `n` is 0. The final result is the product of all the multiplications performed in the recursive calls.\n",
      "\n",
      "Here's an example of how to use the function:\n",
      "```\n",
      ">>> factorial(5)\n",
      "120\n",
      "```\n",
      "I hope this helps! Let me know if you have any questions.\n",
      "\n",
      "\n",
      "Took 7.917333126068115 seconds\n"
     ]
    }
   ],
   "source": [
    "test_model(\"codellama/CodeLlama-7b-Instruct-hf\", dict(torch_dtype=torch.bfloat16))"
   ]
  },
  {
   "cell_type": "markdown",
   "id": "2fb93015-2754-487c-af05-414697e94f70",
   "metadata": {},
   "source": [
    "## 7b parameters, 8-bit quantisation\n",
    "\n",
    "This uses about half the memory as the previous one, and also does a decent job.  A mistake in the O(1) -- we're not using tail recursion -- but that's not the end of the world."
   ]
  },
  {
   "cell_type": "code",
   "execution_count": 5,
   "id": "7c0f9a86-e75d-4452-be47-0acf5871149a",
   "metadata": {},
   "outputs": [
    {
     "name": "stdout",
     "output_type": "stream",
     "text": [
      "\n",
      "\n",
      "================== RUNNING codellama/CodeLlama-7b-Instruct-hf with {'load_in_8bit': True} =======================\n"
     ]
    },
    {
     "data": {
      "application/vnd.jupyter.widget-view+json": {
       "model_id": "e135831ac7fe4a47830f25adc1943792",
       "version_major": 2,
       "version_minor": 0
      },
      "text/plain": [
       "Loading checkpoint shards:   0%|          | 0/2 [00:00<?, ?it/s]"
      ]
     },
     "metadata": {},
     "output_type": "display_data"
    },
    {
     "name": "stderr",
     "output_type": "stream",
     "text": [
      "Setting `pad_token_id` to `eos_token_id`:2 for open-end generation.\n"
     ]
    },
    {
     "name": "stdout",
     "output_type": "stream",
     "text": [
      "Using 6.88 GiB\n",
      "[INST] Please write a function in Python to calculate the factorial of a number.  Use recursion, and consider error cases (eg. n<0) [/INST]  Sure! Here's an example of a function in Python that calculates the factorial of a number using recursion:\n",
      "```\n",
      "def factorial(n):\n",
      "    if n < 0:\n",
      "        raise ValueError(\"Factorial is not defined for negative numbers\")\n",
      "    elif n == 0:\n",
      "        return 1\n",
      "    else:\n",
      "        return n * factorial(n-1)\n",
      "```\n",
      "This function uses the recursive formula for the factorial: `n! = n * (n-1) * (n-2) * ... * 1` to calculate the factorial of a positive integer `n`. It checks for negative numbers and raises a `ValueError` if the number is negative. If the number is zero or positive, it recursively calls itself with the argument `n-1` until it reaches the base case, where the result is returned.\n",
      "\n",
      "You can test this function with different inputs:\n",
      "```\n",
      "print(factorial(-1)) # raises ValueError\n",
      "print(factorial(0)) # returns 1\n",
      "print(factorial(1)) # returns 1\n",
      "print(factorial(5)) # returns 120\n",
      "```\n",
      "Note that this implementation has a time complexity of `O(n)` and a space complexity of `O(1)`, since it only uses the result of the previous recursive call and does not allocate any additional memory.\n",
      "\n",
      "\n",
      "Took 15.797977685928345 seconds\n"
     ]
    }
   ],
   "source": [
    "test_model(\"codellama/CodeLlama-7b-Instruct-hf\", dict(load_in_8bit=True))"
   ]
  },
  {
   "cell_type": "markdown",
   "id": "24b6ad73-c636-43f5-bd50-713fff19f5a5",
   "metadata": {},
   "source": [
    "## 7b parameters, 4-bit quantisation\n",
    "\n",
    "Another memory usage reduction, and still a decent response."
   ]
  },
  {
   "cell_type": "code",
   "execution_count": 6,
   "id": "7f71d6aa-3d5b-41c9-8740-309fb3776136",
   "metadata": {},
   "outputs": [
    {
     "name": "stdout",
     "output_type": "stream",
     "text": [
      "\n",
      "\n",
      "================== RUNNING codellama/CodeLlama-7b-Instruct-hf with {'load_in_4bit': True} =======================\n"
     ]
    },
    {
     "data": {
      "application/vnd.jupyter.widget-view+json": {
       "model_id": "9da2275e81b14d0f80b4a0a4fbfc08d8",
       "version_major": 2,
       "version_minor": 0
      },
      "text/plain": [
       "Loading checkpoint shards:   0%|          | 0/2 [00:00<?, ?it/s]"
      ]
     },
     "metadata": {},
     "output_type": "display_data"
    },
    {
     "name": "stderr",
     "output_type": "stream",
     "text": [
      "Setting `pad_token_id` to `eos_token_id`:2 for open-end generation.\n"
     ]
    },
    {
     "name": "stdout",
     "output_type": "stream",
     "text": [
      "Using 4.17 GiB\n"
     ]
    },
    {
     "name": "stderr",
     "output_type": "stream",
     "text": [
      "/home/giles/.virtualenvs/hfplay/lib/python3.11/site-packages/bitsandbytes/nn/modules.py:226: UserWarning: Input type into Linear4bit is torch.float16, but bnb_4bit_compute_dtype=torch.float32 (default). This will lead to slow inference or training speed.\n",
      "  warnings.warn(f'Input type into Linear4bit is torch.float16, but bnb_4bit_compute_dtype=torch.float32 (default). This will lead to slow inference or training speed.')\n"
     ]
    },
    {
     "name": "stdout",
     "output_type": "stream",
     "text": [
      "[INST] Please write a function in Python to calculate the factorial of a number.  Use recursion, and consider error cases (eg. n<0) [/INST]  Sure! Here is an example function in Python that calculates the factorial of a number using recursion:\n",
      "```\n",
      "def factorial(n):\n",
      "    if n < 0:\n",
      "        raise ValueError(\"n must be non-negative\")\n",
      "    elif n == 0:\n",
      "        return 1\n",
      "    else:\n",
      "        return n * factorial(n-1)\n",
      "```\n",
      "This function uses recursion to calculate the factorial of a number by calling itself with the argument `n-1` until it reaches the base case, where `n` is 0. The base case returns 1, and the recursive cases multiply the result by `n` and then multiply it by the result of the recursive call.\n",
      "\n",
      "Here's an example of how you could use this function:\n",
      "```\n",
      "print(factorial(5))  # Output: 120\n",
      "print(factorial(0))  # Output: 1\n",
      "print(factorial(-1))  # Output: ValueError: n must be non-negative\n",
      "```\n",
      "I hope this helps! Let me know if you have any questions.\n",
      "\n",
      "\n",
      "Took 4.67816948890686 seconds\n"
     ]
    }
   ],
   "source": [
    "test_model(\"codellama/CodeLlama-7b-Instruct-hf\", dict(load_in_4bit=True))"
   ]
  },
  {
   "cell_type": "markdown",
   "id": "704e41a5-38d0-498e-8e82-1297e31d45f3",
   "metadata": {},
   "source": [
    "## 13b parameters, 8-bit quantisation\n",
    "\n",
    "Memory usage as expected, solid response"
   ]
  },
  {
   "cell_type": "code",
   "execution_count": 7,
   "id": "1c157d5f-df38-4a57-a78c-e54f2e38bed1",
   "metadata": {},
   "outputs": [
    {
     "name": "stdout",
     "output_type": "stream",
     "text": [
      "\n",
      "\n",
      "================== RUNNING codellama/CodeLlama-13b-Instruct-hf with {'load_in_8bit': True} =======================\n"
     ]
    },
    {
     "data": {
      "application/vnd.jupyter.widget-view+json": {
       "model_id": "bc804db6a114481ab3819d17c9bba082",
       "version_major": 2,
       "version_minor": 0
      },
      "text/plain": [
       "Loading checkpoint shards:   0%|          | 0/3 [00:00<?, ?it/s]"
      ]
     },
     "metadata": {},
     "output_type": "display_data"
    },
    {
     "name": "stderr",
     "output_type": "stream",
     "text": [
      "Setting `pad_token_id` to `eos_token_id`:2 for open-end generation.\n"
     ]
    },
    {
     "name": "stdout",
     "output_type": "stream",
     "text": [
      "Using 12.80 GiB\n",
      "[INST] Please write a function in Python to calculate the factorial of a number.  Use recursion, and consider error cases (eg. n<0) [/INST]  Sure! Here is a function in Python to calculate the factorial of a number using recursion:\n",
      "```\n",
      "def factorial(n):\n",
      "    if n < 0:\n",
      "        raise ValueError(\"n must be non-negative\")\n",
      "    elif n == 0:\n",
      "        return 1\n",
      "    else:\n",
      "        return n * factorial(n-1)\n",
      "```\n",
      "This function uses the following logic:\n",
      "\n",
      "* If `n` is negative, it raises a `ValueError` as the factorial is not defined for negative numbers.\n",
      "* If `n` is 0, the factorial is defined to be 1.\n",
      "* Otherwise, the function calls itself recursively with `n-1` as the argument, and multiplies the result by `n`.\n",
      "\n",
      "Here is an example of how the function can be used:\n",
      "```\n",
      "print(factorial(5))  # Output: 120\n",
      "print(factorial(0))  # Output: 1\n",
      "print(factorial(-1))  # Raises ValueError\n",
      "```\n",
      "I hope this helps! Let me know if you have any questions.\n",
      "\n",
      "\n",
      "Took 16.790033102035522 seconds\n"
     ]
    }
   ],
   "source": [
    "test_model(\"codellama/CodeLlama-13b-Instruct-hf\", dict(load_in_8bit=True))"
   ]
  },
  {
   "cell_type": "markdown",
   "id": "12b7d217-0a18-4077-865f-ea7b34153bfc",
   "metadata": {},
   "source": [
    "## 13b parameters, 4-bit quantisation\n",
    "\n",
    "Once again, memory usage as expected, solid response (though I'm not a huge fan of that `return None`)"
   ]
  },
  {
   "cell_type": "code",
   "execution_count": 8,
   "id": "9522ad34-4072-4b3e-ad25-36a86d39a0fe",
   "metadata": {},
   "outputs": [
    {
     "name": "stdout",
     "output_type": "stream",
     "text": [
      "\n",
      "\n",
      "================== RUNNING codellama/CodeLlama-13b-Instruct-hf with {'load_in_4bit': True} =======================\n"
     ]
    },
    {
     "data": {
      "application/vnd.jupyter.widget-view+json": {
       "model_id": "02c892de8b414f96a936eb77604a1f37",
       "version_major": 2,
       "version_minor": 0
      },
      "text/plain": [
       "Loading checkpoint shards:   0%|          | 0/3 [00:00<?, ?it/s]"
      ]
     },
     "metadata": {},
     "output_type": "display_data"
    },
    {
     "name": "stderr",
     "output_type": "stream",
     "text": [
      "Setting `pad_token_id` to `eos_token_id`:2 for open-end generation.\n"
     ]
    },
    {
     "name": "stdout",
     "output_type": "stream",
     "text": [
      "Using 7.65 GiB\n",
      "[INST] Please write a function in Python to calculate the factorial of a number.  Use recursion, and consider error cases (eg. n<0) [/INST]  Here's an example of a function in Python that calculates the factorial of a number using recursion:\n",
      "```\n",
      "def factorial(n):\n",
      "    if n < 0:\n",
      "        return None\n",
      "    elif n == 0:\n",
      "        return 1\n",
      "    else:\n",
      "        return n * factorial(n-1)\n",
      "```\n",
      "This function uses recursion to calculate the factorial of a number. The `if` statement checks if the input is negative, and if it is, the function returns `None` to indicate an error. If the input is 0, the function returns 1. Otherwise, the function returns the product of the input and the factorial of the input minus 1.\n",
      "\n",
      "Here's an example of how you could call this function:\n",
      "```\n",
      "print(factorial(5))  # prints 120\n",
      "print(factorial(-1))  # prints None\n",
      "```\n",
      "This will calculate the factorial of 5, which is 120, and will return `None` if the input is negative.\n",
      "\n",
      "\n",
      "Took 7.670776128768921 seconds\n"
     ]
    }
   ],
   "source": [
    "test_model(\"codellama/CodeLlama-13b-Instruct-hf\", dict(load_in_4bit=True))"
   ]
  },
  {
   "cell_type": "markdown",
   "id": "d5d11a6d-8509-440a-9502-0eee446eb97b",
   "metadata": {},
   "source": [
    "## 34b parameters, 4-bit quantisation\n",
    "\n",
    "Memory usage as expected, but total nonsense as the response -- missing tokens, and it's in Java!  What's going on?"
   ]
  },
  {
   "cell_type": "code",
   "execution_count": 9,
   "id": "84512f95-4aaa-4627-87cd-3c9ccc9aca6f",
   "metadata": {},
   "outputs": [
    {
     "name": "stdout",
     "output_type": "stream",
     "text": [
      "\n",
      "\n",
      "================== RUNNING codellama/CodeLlama-34b-Instruct-hf with {'load_in_4bit': True} =======================\n"
     ]
    },
    {
     "data": {
      "application/vnd.jupyter.widget-view+json": {
       "model_id": "a5544bf372944c189ab6618854c87b39",
       "version_major": 2,
       "version_minor": 0
      },
      "text/plain": [
       "Loading checkpoint shards:   0%|          | 0/7 [00:00<?, ?it/s]"
      ]
     },
     "metadata": {},
     "output_type": "display_data"
    },
    {
     "name": "stderr",
     "output_type": "stream",
     "text": [
      "Setting `pad_token_id` to `eos_token_id`:2 for open-end generation.\n"
     ]
    },
    {
     "name": "stdout",
     "output_type": "stream",
     "text": [
      "Using 18.77 GiB\n",
      "[INST] Please write a function in Python to calculate the factorial of a number.  Use recursion, and consider error cases (eg. n<0) [/INST]  Sure! Here is a function in Python that calcul        public class FactorialRecursion {\n",
      "            public static int factorial(int n) {\n",
      "                if (n == 0) {\n",
      "                    return 1;\n",
      "                } else if (n < 0) {\n",
      "                    return 0;\n",
      "                } else {\n",
      "                    return n * factorial(n-1);\n",
      "                }\n",
      "            }\n",
      "        }\n",
      "\n",
      "It works by using a recursive approach, where the function calls itself with a smaller input (n-1) until it reaches the base case (n==0), where it returns 1.\n",
      "\n",
      "The function also considers error cases, such as n<0, and returns 0 in those cases.\n",
      "\n",
      "You can test it with:\n",
      "\n",
      "print(factorial(5)) # should print 120\n",
      "print(factorial(0)) # should print 1\n",
      "print(factorial(-1)) # should print 0\n",
      "\n",
      "Note that this implementation is not the most efficient one, but it's a simple and easy to understand approach.\n",
      "\n",
      "\n",
      "Took 18.160218477249146 seconds\n"
     ]
    }
   ],
   "source": [
    "test_model(\"codellama/CodeLlama-34b-Instruct-hf\", dict(load_in_4bit=True))"
   ]
  },
  {
   "cell_type": "code",
   "execution_count": null,
   "id": "b082839a-4b89-4057-8bca-880d10ff5c4b",
   "metadata": {},
   "outputs": [],
   "source": []
  }
 ],
 "metadata": {
  "kernelspec": {
   "display_name": "Python 3 (ipykernel)",
   "language": "python",
   "name": "python3"
  },
  "language_info": {
   "codemirror_mode": {
    "name": "ipython",
    "version": 3
   },
   "file_extension": ".py",
   "mimetype": "text/x-python",
   "name": "python",
   "nbconvert_exporter": "python",
   "pygments_lexer": "ipython3",
   "version": "3.11.5"
  }
 },
 "nbformat": 4,
 "nbformat_minor": 5
}
